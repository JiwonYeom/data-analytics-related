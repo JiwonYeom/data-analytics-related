{
 "cells": [
  {
   "cell_type": "code",
   "execution_count": 1,
   "metadata": {},
   "outputs": [],
   "source": [
    "import pandas as pd\n",
    "from datetime import datetime, timedelta\n",
    "from collections import OrderedDict\n",
    "import numpy as np"
   ]
  },
  {
   "cell_type": "code",
   "execution_count": 2,
   "metadata": {},
   "outputs": [],
   "source": [
    "df = pd.read_excel('/Users/j-yeom/workspace/asakai/charge/charge-total.xlsx', sheet_name = ['03-03','2018-04','2018-05','2018-06'])\n",
    "#print(df)\n",
    "df1 = pd.DataFrame()\n",
    "df1['date'] = (df['03-03']['date']).append(df['2018-04']['date']).append(df['2018-05']['date']).append(df['2018-06']['date'])\n",
    "df1['date'] = pd.to_datetime(df1['date'], format='%Y/%m/%d %H:%M')\n",
    "df1['date_month'] = df1['date'].dt.strftime('%Y-%m')\n",
    "df1['userId'] = (df['03-03']['userId']).append(df['2018-04']['userId']).append(df['2018-05']['userId']).append(df['2018-06']['userId'])\n",
    "#df1['userId'] = df['03-03']['userId']\n",
    "df1['userId'] = df1.userId.apply(str)\n",
    "#print(df1)"
   ]
  },
  {
   "cell_type": "code",
   "execution_count": 3,
   "metadata": {},
   "outputs": [
    {
     "name": "stdout",
     "output_type": "stream",
     "text": [
      "['2017-03' '2017-04' '2017-05' '2017-06' '2017-07' '2017-08' '2017-09'\n",
      " '2017-10' '2017-11' '2017-12' '2018-01' '2018-02' '2018-03' '2018-04'\n",
      " '2018-05' '2018-06']\n",
      "[769, 507, 771, 415, 390, 790, 509, 289, 242, 691, 719, 297, 397, 411, 388, 510]\n"
     ]
    }
   ],
   "source": [
    "monthList = df1.date_month.unique()\n",
    "print(monthList)\n",
    "userList = []\n",
    "for month in monthList:\n",
    "    if(len(userList) == 0):\n",
    "        userList.append(list(df1.userId.where(df1['date_month'] == month).unique()))\n",
    "    else:\n",
    "        toAppend = set(df1.userId.where(df1['date_month'] == month).unique())\n",
    "        # remove all the previous months' users\n",
    "        toRemove = set().union(*userList)\n",
    "        userList.append(list(toAppend - toRemove))\n",
    "#print(userList) # userList will now contain lists of first users from each month.\n",
    "userObj = {}\n",
    "count = 0\n",
    "firstUserCount = []\n",
    "for month in monthList:\n",
    "    userObj[month] = userList[count]\n",
    "    firstUserCount.append(len(userObj[month]))\n",
    "    count+=1\n",
    "\n",
    "print(firstUserCount)"
   ]
  },
  {
   "cell_type": "code",
   "execution_count": 4,
   "metadata": {},
   "outputs": [],
   "source": [
    "userList = {}\n",
    "for month in monthList:\n",
    "    userList[month] = df1.userId.where(df1['date_month'] == month).unique()  # << unique user of each month\n",
    "#print(userList) 각 월의 유저아이디를 담고 있는 객체\n",
    "\n",
    "def match_all(rangeArr, subRangeArr):\n",
    "    arr = {}\n",
    "    for month in rangeArr:\n",
    "        arr[month] = []\n",
    "        for sub_month in subRangeArr:  \n",
    "            # figure out if each month unique user existed in the first charger user group\n",
    "            arr[month].append(np.isin(userList[sub_month],userObj[month]).sum())\n",
    "    return arr\n",
    "\n",
    "dates = [\"2017-03-01\", \"2018-06-30\"]\n",
    "start, end = [datetime.strptime(_, \"%Y-%m-%d\") for _ in dates]\n",
    "result = list(OrderedDict(((start + timedelta(_)).strftime(r\"%Y-%m\"), None) for _ in range((end - start).days)).keys())\n",
    "#print(for_march(result))\n",
    "real_result = match_all(result, result) # use same time range for both compare-ref and compare-ee\n",
    "#print(real_result)"
   ]
  },
  {
   "cell_type": "code",
   "execution_count": 9,
   "metadata": {},
   "outputs": [
    {
     "name": "stdout",
     "output_type": "stream",
     "text": [
      "            userId  2017-03  2017-04  2017-05  2017-06  2017-07  2017-08  \\\n",
      "date_month                                                                 \n",
      "2017-03        768      768      NaN      NaN      NaN      NaN      NaN   \n",
      "2017-04        757      250    507.0      NaN      NaN      NaN      NaN   \n",
      "2017-05       1165      235    159.0    771.0      NaN      NaN      NaN   \n",
      "2017-06       1080      252    167.0    246.0    415.0      NaN      NaN   \n",
      "2017-07       1029      221    124.0    175.0    119.0    390.0      NaN   \n",
      "2017-08       1674      249    142.0    196.0    134.0    163.0    790.0   \n",
      "2017-09       1559      254    145.0    197.0    105.0    146.0    203.0   \n",
      "2017-10       1170      184    116.0    160.0     75.0    110.0    125.0   \n",
      "2017-11       1313      212    114.0    188.0     74.0    111.0    125.0   \n",
      "2017-12       2157      270    165.0    259.0    132.0    126.0    153.0   \n",
      "2018-01       1573      114     73.0    121.0     49.0     83.0     75.0   \n",
      "2018-02       1353      108     71.0    118.0     48.0     93.0     83.0   \n",
      "2018-03       1621      118     77.0    136.0     59.0     93.0     92.0   \n",
      "2018-04       1654      125     81.0    132.0     65.0     81.0     93.0   \n",
      "2018-05       1607      120     77.0    123.0     55.0     69.0     71.0   \n",
      "2018-06       2030      117     76.0    124.0     72.0     65.0     85.0   \n",
      "\n",
      "            2017-09  2017-10  2017-11  2017-12  2018-01  2018-02  2018-03  \\\n",
      "date_month                                                                  \n",
      "2017-03         NaN      NaN      NaN      NaN      NaN      NaN      NaN   \n",
      "2017-04         NaN      NaN      NaN      NaN      NaN      NaN      NaN   \n",
      "2017-05         NaN      NaN      NaN      NaN      NaN      NaN      NaN   \n",
      "2017-06         NaN      NaN      NaN      NaN      NaN      NaN      NaN   \n",
      "2017-07         NaN      NaN      NaN      NaN      NaN      NaN      NaN   \n",
      "2017-08         NaN      NaN      NaN      NaN      NaN      NaN      NaN   \n",
      "2017-09       509.0      NaN      NaN      NaN      NaN      NaN      NaN   \n",
      "2017-10       111.0    289.0      NaN      NaN      NaN      NaN      NaN   \n",
      "2017-11       122.0    125.0    242.0      NaN      NaN      NaN      NaN   \n",
      "2017-12       128.0    111.0    122.0    691.0      NaN      NaN      NaN   \n",
      "2018-01        52.0     50.0     43.0    194.0    719.0      NaN      NaN   \n",
      "2018-02        57.0     54.0     53.0    165.0    206.0    297.0      NaN   \n",
      "2018-03        57.0     58.0     50.0    170.0    210.0    104.0    397.0   \n",
      "2018-04        61.0     44.0     47.0    133.0    158.0     81.0    142.0   \n",
      "2018-05        47.0     50.0     40.0    113.0    139.0     72.0    111.0   \n",
      "2018-06        55.0     53.0     41.0    148.0    175.0     71.0    111.0   \n",
      "\n",
      "            2018-04  2018-05  2018-06  \n",
      "date_month                             \n",
      "2017-03         NaN      NaN      NaN  \n",
      "2017-04         NaN      NaN      NaN  \n",
      "2017-05         NaN      NaN      NaN  \n",
      "2017-06         NaN      NaN      NaN  \n",
      "2017-07         NaN      NaN      NaN  \n",
      "2017-08         NaN      NaN      NaN  \n",
      "2017-09         NaN      NaN      NaN  \n",
      "2017-10         NaN      NaN      NaN  \n",
      "2017-11         NaN      NaN      NaN  \n",
      "2017-12         NaN      NaN      NaN  \n",
      "2018-01         NaN      NaN      NaN  \n",
      "2018-02         NaN      NaN      NaN  \n",
      "2018-03         NaN      NaN      NaN  \n",
      "2018-04       411.0      NaN      NaN  \n",
      "2018-05       132.0    388.0      NaN  \n",
      "2018-06       159.0    168.0    510.0  \n"
     ]
    }
   ],
   "source": [
    "df2 = df1.groupby('date_month')[['userId']].nunique()\n",
    "#df2['userId'] = firstUserCount\n",
    "for month, month_list in real_result.items():\n",
    "    df2[month] = month_list\n",
    "df2 = df2.transpose()\n",
    "\n",
    "df2 = df2.replace(0, np.nan)\n",
    "print(df2)\n",
    "writer = pd.ExcelWriter('pollet_charge1.xlsx', engine='xlsxwriter')\n",
    "df2.to_excel(writer, sheet_name='Sheet1')\n",
    "writer.save()\n",
    "#df2.to_json('pollet_charge_split.json', orient='split')"
   ]
  },
  {
   "cell_type": "code",
   "execution_count": null,
   "metadata": {},
   "outputs": [],
   "source": []
  }
 ],
 "metadata": {
  "kernelspec": {
   "display_name": "Python 3",
   "language": "python",
   "name": "python3"
  },
  "language_info": {
   "codemirror_mode": {
    "name": "ipython",
    "version": 3
   },
   "file_extension": ".py",
   "mimetype": "text/x-python",
   "name": "python",
   "nbconvert_exporter": "python",
   "pygments_lexer": "ipython3",
   "version": "3.6.5"
  }
 },
 "nbformat": 4,
 "nbformat_minor": 2
}
