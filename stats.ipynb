{
 "cells": [
  {
   "cell_type": "code",
   "execution_count": 31,
   "metadata": {},
   "outputs": [],
   "source": [
    "from scipy.stats import norm, binom, poisson, expon, zscore\n",
    "import matplotlib.pyplot as plt\n",
    "import numpy as np\n",
    "import pandas as pd"
   ]
  },
  {
   "cell_type": "code",
   "execution_count": 4,
   "metadata": {},
   "outputs": [
    {
     "data": {
      "image/png": "[encoded data removed]",
      "text/plain": [
       "<Figure size 432x288 with 1 Axes>"
      ]
     },
     "metadata": {
      "needs_background": "light"
     },
     "output_type": "display_data"
    }
   ],
   "source": [
    "x = np.linspace(-5, 5, 1000)\n",
    "plt.plot(x, expon.pdf(x, loc=0, scale=1), label='norm')\n",
    "plt.legend()\n",
    "plt.title(\"norm PDF\")\n",
    "plt.grid(True)\n",
    "plt.show()"
   ]
  },
  {
   "cell_type": "code",
   "execution_count": 5,
   "metadata": {},
   "outputs": [],
   "source": [
    "# average event (lambda)\n",
    "lambda_ = 3\n",
    "\n",
    "# 0~10 customers to enter\n",
    "x = np.arange(0,11)\n"
   ]
  },
  {
   "cell_type": "code",
   "execution_count": 6,
   "metadata": {},
   "outputs": [
    {
     "name": "stderr",
     "output_type": "stream",
     "text": [
      "c:\\blp\\bqnt\\environments\\bqnt-3\\lib\\site-packages\\IPython\\core\\pylabtools.py:151: UserWarning: Glyph 51221 (\\N{HANGUL SYLLABLE JEONG}) missing from current font.\n",
      "  fig.canvas.print_figure(bytes_io, **kw)\n",
      "c:\\blp\\bqnt\\environments\\bqnt-3\\lib\\site-packages\\IPython\\core\\pylabtools.py:151: UserWarning: Glyph 44508 (\\N{HANGUL SYLLABLE GYU}) missing from current font.\n",
      "  fig.canvas.print_figure(bytes_io, **kw)\n",
      "c:\\blp\\bqnt\\environments\\bqnt-3\\lib\\site-packages\\IPython\\core\\pylabtools.py:151: UserWarning: Glyph 48516 (\\N{HANGUL SYLLABLE BUN}) missing from current font.\n",
      "  fig.canvas.print_figure(bytes_io, **kw)\n",
      "c:\\blp\\bqnt\\environments\\bqnt-3\\lib\\site-packages\\IPython\\core\\pylabtools.py:151: UserWarning: Glyph 54252 (\\N{HANGUL SYLLABLE PO}) missing from current font.\n",
      "  fig.canvas.print_figure(bytes_io, **kw)\n",
      "c:\\blp\\bqnt\\environments\\bqnt-3\\lib\\site-packages\\IPython\\core\\pylabtools.py:151: UserWarning: Glyph 51032 (\\N{HANGUL SYLLABLE YI}) missing from current font.\n",
      "  fig.canvas.print_figure(bytes_io, **kw)\n",
      "c:\\blp\\bqnt\\environments\\bqnt-3\\lib\\site-packages\\IPython\\core\\pylabtools.py:151: UserWarning: Glyph 45572 (\\N{HANGUL SYLLABLE NU}) missing from current font.\n",
      "  fig.canvas.print_figure(bytes_io, **kw)\n",
      "c:\\blp\\bqnt\\environments\\bqnt-3\\lib\\site-packages\\IPython\\core\\pylabtools.py:151: UserWarning: Glyph 51201 (\\N{HANGUL SYLLABLE JEOG}) missing from current font.\n",
      "  fig.canvas.print_figure(bytes_io, **kw)\n",
      "c:\\blp\\bqnt\\environments\\bqnt-3\\lib\\site-packages\\IPython\\core\\pylabtools.py:151: UserWarning: Glyph 54632 (\\N{HANGUL SYLLABLE HAM}) missing from current font.\n",
      "  fig.canvas.print_figure(bytes_io, **kw)\n",
      "c:\\blp\\bqnt\\environments\\bqnt-3\\lib\\site-packages\\IPython\\core\\pylabtools.py:151: UserWarning: Glyph 49688 (\\N{HANGUL SYLLABLE SU}) missing from current font.\n",
      "  fig.canvas.print_figure(bytes_io, **kw)\n",
      "c:\\blp\\bqnt\\environments\\bqnt-3\\lib\\site-packages\\IPython\\core\\pylabtools.py:151: UserWarning: Glyph 44050 (\\N{HANGUL SYLLABLE GABS}) missing from current font.\n",
      "  fig.canvas.print_figure(bytes_io, **kw)\n",
      "c:\\blp\\bqnt\\environments\\bqnt-3\\lib\\site-packages\\IPython\\core\\pylabtools.py:151: UserWarning: Glyph 54869 (\\N{HANGUL SYLLABLE HWAG}) missing from current font.\n",
      "  fig.canvas.print_figure(bytes_io, **kw)\n",
      "c:\\blp\\bqnt\\environments\\bqnt-3\\lib\\site-packages\\IPython\\core\\pylabtools.py:151: UserWarning: Glyph 47456 (\\N{HANGUL SYLLABLE RYUL}) missing from current font.\n",
      "  fig.canvas.print_figure(bytes_io, **kw)\n"
     ]
    },
    {
     "data": {
      "image/png": "[encoded data removed]",
      "text/plain": [
       "<Figure size 432x288 with 1 Axes>"
      ]
     },
     "metadata": {
      "needs_background": "light"
     },
     "output_type": "display_data"
    }
   ],
   "source": [
    "x = np.linspace(-4, 4, 1000)\n",
    "cdf = norm.cdf(x, loc=0, scale=1)\n",
    "\n",
    "plt.plot(x, cdf, label='CDF')\n",
    "plt.title(\"정규분포의 누적 분포 함수 (CDF)\")\n",
    "plt.xlabel(\"x 값\")\n",
    "plt.ylabel(\"누적 확률\")\n",
    "plt.grid(True)\n",
    "plt.legend()\n",
    "plt.show()"
   ]
  },
  {
   "cell_type": "code",
   "execution_count": 7,
   "metadata": {},
   "outputs": [
    {
     "name": "stdout",
     "output_type": "stream",
     "text": [
      "70점 이하일 확률: 84.13%\n"
     ]
    }
   ],
   "source": [
    "# 평균 60, 표준편차 10인 시험 점수에서\n",
    "# 70점 이하일 확률\n",
    "prob = norm.cdf(70, loc=60, scale=10)\n",
    "print(f\"70점 이하일 확률: {prob:.2%}\")"
   ]
  },
  {
   "cell_type": "code",
   "execution_count": 8,
   "metadata": {},
   "outputs": [
    {
     "name": "stdout",
     "output_type": "stream",
     "text": [
      "160~180cm 사이일 확률: 95.45%\n"
     ]
    }
   ],
   "source": [
    "p1 = norm.cdf(180, loc=170, scale=5)\n",
    "p2 = norm.cdf(160, loc=170, scale=5)\n",
    "print(f\"160~180cm 사이일 확률: {(p1 - p2):.2%}\")"
   ]
  },
  {
   "cell_type": "code",
   "execution_count": 9,
   "metadata": {},
   "outputs": [
    {
     "name": "stdout",
     "output_type": "stream",
     "text": [
      "95% 신뢰구간: 40.20 ~ 59.80\n"
     ]
    }
   ],
   "source": [
    "lower = norm.ppf(0.025, loc=50, scale=5)\n",
    "upper = norm.ppf(0.975, loc=50, scale=5)\n",
    "print(f\"95% 신뢰구간: {lower:.2f} ~ {upper:.2f}\")"
   ]
  },
  {
   "cell_type": "code",
   "execution_count": 10,
   "metadata": {},
   "outputs": [
    {
     "name": "stdout",
     "output_type": "stream",
     "text": [
      "Z=2.67, 상위 0.38%\n"
     ]
    }
   ],
   "source": [
    "z = (140 - 100) / 15  # Z-score 계산\n",
    "prob = 1 - norm.cdf(z)  # 얼마나 희귀한지\n",
    "print(f\"Z={z:.2f}, 상위 {prob:.2%}\")"
   ]
  },
  {
   "cell_type": "code",
   "execution_count": 11,
   "metadata": {},
   "outputs": [],
   "source": [
    "data = np.random.normal(loc=50, scale=10, size=1000)"
   ]
  },
  {
   "cell_type": "code",
   "execution_count": 12,
   "metadata": {},
   "outputs": [],
   "source": [
    "x = np.linspace(20, 80, 1000)"
   ]
  },
  {
   "cell_type": "code",
   "execution_count": 13,
   "metadata": {},
   "outputs": [],
   "source": [
    "pdf_theory = norm.pdf(x, loc=50, scale=10)"
   ]
  },
  {
   "cell_type": "code",
   "execution_count": 14,
   "metadata": {},
   "outputs": [
    {
     "name": "stderr",
     "output_type": "stream",
     "text": [
      "c:\\blp\\bqnt\\environments\\bqnt-3\\lib\\site-packages\\IPython\\core\\pylabtools.py:151: UserWarning: Glyph 49892 (\\N{HANGUL SYLLABLE SIL}) missing from current font.\n",
      "  fig.canvas.print_figure(bytes_io, **kw)\n",
      "c:\\blp\\bqnt\\environments\\bqnt-3\\lib\\site-packages\\IPython\\core\\pylabtools.py:151: UserWarning: Glyph 51228 (\\N{HANGUL SYLLABLE JE}) missing from current font.\n",
      "  fig.canvas.print_figure(bytes_io, **kw)\n",
      "c:\\blp\\bqnt\\environments\\bqnt-3\\lib\\site-packages\\IPython\\core\\pylabtools.py:151: UserWarning: Glyph 45936 (\\N{HANGUL SYLLABLE DE}) missing from current font.\n",
      "  fig.canvas.print_figure(bytes_io, **kw)\n",
      "c:\\blp\\bqnt\\environments\\bqnt-3\\lib\\site-packages\\IPython\\core\\pylabtools.py:151: UserWarning: Glyph 51060 (\\N{HANGUL SYLLABLE I}) missing from current font.\n",
      "  fig.canvas.print_figure(bytes_io, **kw)\n",
      "c:\\blp\\bqnt\\environments\\bqnt-3\\lib\\site-packages\\IPython\\core\\pylabtools.py:151: UserWarning: Glyph 53552 (\\N{HANGUL SYLLABLE TEO}) missing from current font.\n",
      "  fig.canvas.print_figure(bytes_io, **kw)\n",
      "c:\\blp\\bqnt\\environments\\bqnt-3\\lib\\site-packages\\IPython\\core\\pylabtools.py:151: UserWarning: Glyph 47200 (\\N{HANGUL SYLLABLE RON}) missing from current font.\n",
      "  fig.canvas.print_figure(bytes_io, **kw)\n",
      "c:\\blp\\bqnt\\environments\\bqnt-3\\lib\\site-packages\\IPython\\core\\pylabtools.py:151: UserWarning: Glyph 51221 (\\N{HANGUL SYLLABLE JEONG}) missing from current font.\n",
      "  fig.canvas.print_figure(bytes_io, **kw)\n",
      "c:\\blp\\bqnt\\environments\\bqnt-3\\lib\\site-packages\\IPython\\core\\pylabtools.py:151: UserWarning: Glyph 44508 (\\N{HANGUL SYLLABLE GYU}) missing from current font.\n",
      "  fig.canvas.print_figure(bytes_io, **kw)\n",
      "c:\\blp\\bqnt\\environments\\bqnt-3\\lib\\site-packages\\IPython\\core\\pylabtools.py:151: UserWarning: Glyph 48516 (\\N{HANGUL SYLLABLE BUN}) missing from current font.\n",
      "  fig.canvas.print_figure(bytes_io, **kw)\n",
      "c:\\blp\\bqnt\\environments\\bqnt-3\\lib\\site-packages\\IPython\\core\\pylabtools.py:151: UserWarning: Glyph 54252 (\\N{HANGUL SYLLABLE PO}) missing from current font.\n",
      "  fig.canvas.print_figure(bytes_io, **kw)\n",
      "c:\\blp\\bqnt\\environments\\bqnt-3\\lib\\site-packages\\IPython\\core\\pylabtools.py:151: UserWarning: Glyph 44050 (\\N{HANGUL SYLLABLE GABS}) missing from current font.\n",
      "  fig.canvas.print_figure(bytes_io, **kw)\n",
      "c:\\blp\\bqnt\\environments\\bqnt-3\\lib\\site-packages\\IPython\\core\\pylabtools.py:151: UserWarning: Glyph 48128 (\\N{HANGUL SYLLABLE MIL}) missing from current font.\n",
      "  fig.canvas.print_figure(bytes_io, **kw)\n",
      "c:\\blp\\bqnt\\environments\\bqnt-3\\lib\\site-packages\\IPython\\core\\pylabtools.py:151: UserWarning: Glyph 46020 (\\N{HANGUL SYLLABLE DO}) missing from current font.\n",
      "  fig.canvas.print_figure(bytes_io, **kw)\n"
     ]
    },
    {
     "data": {
      "image/png": "[encoded data removed]",
      "text/plain": [
       "<Figure size 432x288 with 1 Axes>"
      ]
     },
     "metadata": {
      "needs_background": "light"
     },
     "output_type": "display_data"
    }
   ],
   "source": [
    "plt.hist(data, bins=30, density=True, alpha=0.6, label=\"actual data\")\n",
    "plt.plot(x, pdf_theory, 'r-', label='theory norm distribution PDF', linewidth = 2)\n",
    "\n",
    "plt.title(\"실제 데이터 vs 이론 정규분포 PDF\")\n",
    "plt.xlabel(\"값\")\n",
    "plt.ylabel(\"밀도\")\n",
    "plt.legend()\n",
    "plt.grid(True)\n",
    "plt.show()"
   ]
  },
  {
   "cell_type": "code",
   "execution_count": 15,
   "metadata": {},
   "outputs": [],
   "source": [
    "np.random.seed(42)"
   ]
  },
  {
   "cell_type": "code",
   "execution_count": 16,
   "metadata": {},
   "outputs": [],
   "source": [
    "data = np.random.normal(loc=50, scale=10, size=100)"
   ]
  },
  {
   "cell_type": "code",
   "execution_count": 17,
   "metadata": {},
   "outputs": [],
   "source": [
    "data = np.append(data, [95, 100, 105])"
   ]
  },
  {
   "cell_type": "code",
   "execution_count": 18,
   "metadata": {},
   "outputs": [],
   "source": [
    "z_scores = zscore(data)"
   ]
  },
  {
   "cell_type": "code",
   "execution_count": 19,
   "metadata": {},
   "outputs": [
    {
     "data": {
      "text/plain": [
       "array([ 0.36484167, -0.14780286,  0.48672957,  1.19342904, -0.2252181 ,\n",
       "       -0.22520484,  1.23878788,  0.58340565, -0.41520254,  0.40185496,\n",
       "       -0.41031272, -0.41217934,  0.15916987, -1.58084709, -1.42877427,\n",
       "       -0.49013445, -0.85387704,  0.21752861, -0.76926195, -1.17638788,\n",
       "        1.1471029 , -0.21845494,  0.01834199, -1.18643483, -0.47567916,\n",
       "        0.05337609, -0.96542134,  0.26714031, -0.52109694, -0.27167284,\n",
       "       -0.52195912,  1.45924491, -0.04707321, -0.89011038,  0.6278984 ,\n",
       "       -1.02181421,  0.13244793, -1.61829957, -1.1084762 ,  0.12275793,\n",
       "        0.56001846,  0.10217641, -0.12954401, -0.27926988, -1.22984866,\n",
       "       -0.61733652, -0.40806918,  0.81728242,  0.24124101, -1.45955201,\n",
       "        0.22547014, -0.34706928, -0.58268363,  0.45765538,  0.79619248,\n",
       "        0.71568485, -0.71371156, -0.28581635,  0.23126641,  0.75142183,\n",
       "       -0.42303364, -0.18606655, -0.92936659, -1.00192372,  0.61980957,\n",
       "        1.05877267, -0.0943131 ,  0.77401753,  0.25578747, -0.55700836,\n",
       "        0.25559337,  1.20554458, -0.06510019,  1.22702559, -2.15120556,\n",
       "        0.62737975,  0.03410038, -0.27757741,  0.03790596, -1.64082342,\n",
       "       -0.21352659,  0.2521355 ,  1.15698902, -0.45459745, -0.68890686,\n",
       "       -0.44126568,  0.70286588,  0.22923811, -0.46387379,  0.37820582,\n",
       "        0.04219841,  0.74585107, -0.60297301, -0.30071162, -0.35274156,\n",
       "       -1.21773285,  0.20289388,  0.17458445, -0.03204803, -0.22556829,\n",
       "        3.5968609 ,  4.0005317 ,  4.40420251])"
      ]
     },
     "execution_count": 19,
     "metadata": {},
     "output_type": "execute_result"
    }
   ],
   "source": [
    "z_scores"
   ]
  },
  {
   "cell_type": "code",
   "execution_count": 20,
   "metadata": {},
   "outputs": [],
   "source": [
    "threshold = 2.5\n",
    "outliers = data[np.abs(z_scores) >= threshold]"
   ]
  },
  {
   "cell_type": "code",
   "execution_count": 21,
   "metadata": {},
   "outputs": [
    {
     "data": {
      "text/plain": [
       "array([ 95., 100., 105.])"
      ]
     },
     "execution_count": 21,
     "metadata": {},
     "output_type": "execute_result"
    }
   ],
   "source": [
    "outliers"
   ]
  },
  {
   "cell_type": "code",
   "execution_count": 22,
   "metadata": {},
   "outputs": [
    {
     "name": "stdout",
     "output_type": "stream",
     "text": [
      "이상치 목록: [101.   1. 120.]\n"
     ]
    }
   ],
   "source": [
    "\n",
    "# 1. 랜덤 시드 고정 (재현 가능한 결과)\n",
    "# TODO: 시드를 고정해보세요 (예: 42)\n",
    "np.random.seed(42)\n",
    "\n",
    "# 2. 평균 50, 표준편차 10인 데이터 100개 생성\n",
    "# TODO: 정규분포를 사용해 데이터 생성\n",
    "data = np.random.normal(loc=50, scale=10, size=100)\n",
    "\n",
    "# 3. 이상치 몇 개 추가 (예: 95, 100, 105)\n",
    "# TODO: 데이터 뒤에 이상치 추가\n",
    "data = np.append(data, [101, 1, 120])\n",
    "\n",
    "# 4. Z-score 계산\n",
    "# TODO: scipy의 zscore 함수를 사용\n",
    "z_scores = zscore(data)\n",
    "\n",
    "# 5. Z-score가 3 이상인 데이터만 추출\n",
    "# TODO: np.abs와 조건 필터링 사용\n",
    "outliers = data[np.abs(z_scores) >= 3]\n",
    "\n",
    "# 6. 결과 출력\n",
    "# TODO: 이상치 목록을 출력\n",
    "print(\"이상치 목록:\", outliers)"
   ]
  },
  {
   "cell_type": "code",
   "execution_count": 23,
   "metadata": {},
   "outputs": [
    {
     "data": {
      "text/plain": [
       "array([ 3.97310790e-01, -8.08316736e-02,  5.10995378e-01,  1.17013247e+00,\n",
       "       -1.53036703e-01, -1.53024340e-01,  1.21243857e+00,  6.01164955e-01,\n",
       "       -3.30234791e-01,  4.31833011e-01, -3.25674066e-01, -3.27415061e-01,\n",
       "        2.05481144e-01, -1.41742899e+00, -1.27559100e+00, -4.00123626e-01,\n",
       "       -7.39385567e-01,  2.59912214e-01, -6.60465253e-01, -1.04019074e+00,\n",
       "        1.12692418e+00, -1.46728717e-01,  7.41312783e-02, -1.04956151e+00,\n",
       "       -3.86641205e-01,  1.06807502e-01, -8.43422699e-01,  3.06184937e-01,\n",
       "       -4.29002273e-01, -1.96364939e-01, -4.29806425e-01,  1.41805838e+00,\n",
       "        1.31186595e-02, -7.73180323e-01,  6.42663243e-01, -8.96020209e-01,\n",
       "        1.80557648e-01, -1.45236083e+00, -9.76849659e-01,  1.71519802e-01,\n",
       "        5.79351771e-01,  1.52323459e-01, -6.38016801e-02, -2.03450683e-01,\n",
       "       -1.09005350e+00, -5.18764721e-01, -3.23581521e-01,  8.19301323e-01,\n",
       "        2.82028715e-01, -1.30429733e+00,  2.67319259e-01, -2.66687045e-01,\n",
       "       -4.86444049e-01,  4.83877945e-01,  7.99630775e-01,  7.24541485e-01,\n",
       "       -6.08653520e-01, -2.09556566e-01,  2.72725435e-01,  7.57873294e-01,\n",
       "       -3.37538835e-01, -1.16520139e-01, -8.09794512e-01, -8.77468386e-01,\n",
       "        6.35118810e-01,  1.04453876e+00, -3.09418916e-02,  7.78948247e-01,\n",
       "        2.95596175e-01, -4.62496773e-01,  2.95415138e-01,  1.18143261e+00,\n",
       "       -3.69506740e-03,  1.20146791e+00, -1.94940113e+00,  6.42179506e-01,\n",
       "        8.88290959e-02, -2.01872123e-01,  9.23785456e-02, -1.47336879e+00,\n",
       "       -1.42132059e-01,  2.92189988e-01,  1.13614495e+00, -3.66978336e-01,\n",
       "       -5.85518230e-01, -3.54543819e-01,  7.12585258e-01,  2.70833643e-01,\n",
       "       -3.75630362e-01,  4.09775506e-01,  9.63821064e-02,  7.52677451e-01,\n",
       "       -5.05367908e-01, -2.23449351e-01, -2.71977568e-01, -1.07875311e+00,\n",
       "        2.46262436e-01,  2.19858284e-01,  2.71326106e-02, -1.53363326e-01,\n",
       "        3.86361176e+00, -3.66644630e+00,  5.29432280e+00])"
      ]
     },
     "execution_count": 23,
     "metadata": {},
     "output_type": "execute_result"
    }
   ],
   "source": [
    "z_scores"
   ]
  },
  {
   "cell_type": "code",
   "execution_count": 29,
   "metadata": {},
   "outputs": [
    {
     "name": "stdout",
     "output_type": "stream",
     "text": [
      "이상치 목록: [  1. 101. 120.]\n"
     ]
    }
   ],
   "source": [
    "# 1. 데이터 생성\n",
    "np.random.seed(42)\n",
    "data = np.random.normal(loc=50, scale=10, size=100)\n",
    "data = np.append(data, [1, 101, 120])\n",
    "\n",
    "# 2. 평균과 표준편차 직접 계산\n",
    "# TODO: np.mean과 np.std를 사용해보세요\n",
    "mean = np.mean(data)\n",
    "std = np.std(data, ddof=0)\n",
    "\n",
    "# 3. Z-score 수식으로 직접 계산\n",
    "# TODO: Z = (x - mean) / std\n",
    "z_scores = (data - mean) / std \n",
    "\n",
    "# 4. 이상치 조건으로 필터링 (Z >= 3 또는 <= -3)\n",
    "# TODO: np.abs와 조건 필터링 사용\n",
    "outliers = data[(np.abs(z_scores) >=3) | (np.abs(z_scores) <= -3)]\n",
    "\n",
    "# 5. 결과 출력\n",
    "print(\"이상치 목록:\", outliers)"
   ]
  },
  {
   "cell_type": "code",
   "execution_count": 37,
   "metadata": {},
   "outputs": [],
   "source": [
    "np.random.seed(42)\n",
    "df = pd.DataFrame({\n",
    "    'A': np.random.normal(50,10,100),\n",
    "    'B': np.random.normal(30, 5, 100)\n",
    "})"
   ]
  },
  {
   "cell_type": "code",
   "execution_count": 38,
   "metadata": {},
   "outputs": [],
   "source": [
    "df.loc[0,'A'] = 120\n",
    "df.loc[1,'B'] = 60"
   ]
  },
  {
   "cell_type": "code",
   "execution_count": 39,
   "metadata": {},
   "outputs": [
    {
     "data": {
      "text/html": [
       "<div>\n",
       "<style scoped>\n",
       "    .dataframe tbody tr th:only-of-type {\n",
       "        vertical-align: middle;\n",
       "    }\n",
       "\n",
       "    .dataframe tbody tr th {\n",
       "        vertical-align: top;\n",
       "    }\n",
       "\n",
       "    .dataframe thead th {\n",
       "        text-align: right;\n",
       "    }\n",
       "</style>\n",
       "<table border=\"1\" class=\"dataframe\">\n",
       "  <thead>\n",
       "    <tr style=\"text-align: right;\">\n",
       "      <th></th>\n",
       "      <th>A</th>\n",
       "      <th>B</th>\n",
       "    </tr>\n",
       "  </thead>\n",
       "  <tbody>\n",
       "    <tr>\n",
       "      <th>0</th>\n",
       "      <td>120.000000</td>\n",
       "      <td>22.923146</td>\n",
       "    </tr>\n",
       "    <tr>\n",
       "      <th>1</th>\n",
       "      <td>48.617357</td>\n",
       "      <td>60.000000</td>\n",
       "    </tr>\n",
       "    <tr>\n",
       "      <th>2</th>\n",
       "      <td>56.476885</td>\n",
       "      <td>28.286427</td>\n",
       "    </tr>\n",
       "    <tr>\n",
       "      <th>3</th>\n",
       "      <td>65.230299</td>\n",
       "      <td>25.988614</td>\n",
       "    </tr>\n",
       "    <tr>\n",
       "      <th>4</th>\n",
       "      <td>47.658466</td>\n",
       "      <td>29.193571</td>\n",
       "    </tr>\n",
       "    <tr>\n",
       "      <th>...</th>\n",
       "      <td>...</td>\n",
       "      <td>...</td>\n",
       "    </tr>\n",
       "    <tr>\n",
       "      <th>95</th>\n",
       "      <td>35.364851</td>\n",
       "      <td>31.926587</td>\n",
       "    </tr>\n",
       "    <tr>\n",
       "      <th>96</th>\n",
       "      <td>52.961203</td>\n",
       "      <td>25.580713</td>\n",
       "    </tr>\n",
       "    <tr>\n",
       "      <th>97</th>\n",
       "      <td>52.610553</td>\n",
       "      <td>30.768626</td>\n",
       "    </tr>\n",
       "    <tr>\n",
       "      <th>98</th>\n",
       "      <td>50.051135</td>\n",
       "      <td>30.291044</td>\n",
       "    </tr>\n",
       "    <tr>\n",
       "      <th>99</th>\n",
       "      <td>47.654129</td>\n",
       "      <td>24.285149</td>\n",
       "    </tr>\n",
       "  </tbody>\n",
       "</table>\n",
       "<p>100 rows × 2 columns</p>\n",
       "</div>"
      ],
      "text/plain": [
       "             A          B\n",
       "0   120.000000  22.923146\n",
       "1    48.617357  60.000000\n",
       "2    56.476885  28.286427\n",
       "3    65.230299  25.988614\n",
       "4    47.658466  29.193571\n",
       "..         ...        ...\n",
       "95   35.364851  31.926587\n",
       "96   52.961203  25.580713\n",
       "97   52.610553  30.768626\n",
       "98   50.051135  30.291044\n",
       "99   47.654129  24.285149\n",
       "\n",
       "[100 rows x 2 columns]"
      ]
     },
     "execution_count": 39,
     "metadata": {},
     "output_type": "execute_result"
    }
   ],
   "source": [
    "z_scores = (df)"
   ]
  },
  {
   "cell_type": "code",
   "execution_count": 40,
   "metadata": {},
   "outputs": [],
   "source": [
    "z_scores = (df-np.mean(df))/np.std(df)"
   ]
  },
  {
   "cell_type": "code",
   "execution_count": 42,
   "metadata": {},
   "outputs": [],
   "source": [
    "outlier_mask = np.abs(z_scores) >=3 "
   ]
  },
  {
   "cell_type": "code",
   "execution_count": 44,
   "metadata": {},
   "outputs": [],
   "source": [
    "outliers = df[outlier_mask]"
   ]
  },
  {
   "cell_type": "code",
   "execution_count": 46,
   "metadata": {},
   "outputs": [
    {
     "name": "stdout",
     "output_type": "stream",
     "text": [
      "            A          B\n",
      "0  120.000000  22.923146\n",
      "1   48.617357  60.000000\n"
     ]
    }
   ],
   "source": [
    "# 1. 데이터 생성\n",
    "np.random.seed(42)\n",
    "df = pd.DataFrame({\n",
    "    'A': np.random.normal(50, 10, 100),\n",
    "    'B': np.random.normal(30, 5, 100)\n",
    "})\n",
    "\n",
    "# 2. 이상치 삽입\n",
    "df.loc[0, 'A'] = 120  # A열 이상치\n",
    "df.loc[1, 'B'] = 60   # B열 이상치\n",
    "\n",
    "# 3. Z-score 계산 (열별로)\n",
    "# TODO: Z-score 수식으로 직접 계산 (mean, std 이용)\n",
    "z_scores = (df-np.mean(df))/np.std(df)\n",
    "\n",
    "# 4. 이상치 마스크 만들기\n",
    "# TODO: np.abs(z_scores) >= 3 조건\n",
    "outlier_mask = np.abs(z_scores) >=3 \n",
    "\n",
    "# 5. 이상치 행 추출\n",
    "# TODO: DataFrame에서 이상치 행만 필터링\n",
    "outliers = df[outlier_mask.any(axis=1)]\n",
    "\n",
    "# 6. 출력\n",
    "print(outliers)\n"
   ]
  },
  {
   "cell_type": "code",
   "execution_count": null,
   "metadata": {},
   "outputs": [],
   "source": []
  }
 ],
 "metadata": {
  "kernelspec": {
   "display_name": "Python 3",
   "language": "python",
   "name": "python3"
  },
  "language_info": {
   "codemirror_mode": {
    "name": "ipython",
    "version": 3
   },
   "file_extension": ".py",
   "mimetype": "text/x-python",
   "name": "python",
   "nbconvert_exporter": "python",
   "pygments_lexer": "ipython3",
   "version": "3.9.12"
  }
 },
 "nbformat": 4,
 "nbformat_minor": 2
}
