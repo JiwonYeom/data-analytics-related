{
 "cells": [
  {
   "cell_type": "code",
   "execution_count": 25,
   "metadata": {},
   "outputs": [],
   "source": [
    "from scipy.stats import norm, binom, poisson, expon, zscore\n",
    "import matplotlib.pyplot as plt\n",
    "import numpy as np"
   ]
  },
  {
   "cell_type": "code",
   "execution_count": 8,
   "metadata": {},
   "outputs": [
    {
     "data": {
      "image/png": "[encoded data removed]",
      "text/plain": [
       "<Figure size 432x288 with 1 Axes>"
      ]
     },
     "metadata": {
      "needs_background": "light"
     },
     "output_type": "display_data"
    }
   ],
   "source": [
    "x = np.linspace(-5, 5, 1000)\n",
    "plt.plot(x, expon.pdf(x, loc=0, scale=1), label='norm')\n",
    "plt.legend()\n",
    "plt.title(\"norm PDF\")\n",
    "plt.grid(True)\n",
    "plt.show()"
   ]
  },
  {
   "cell_type": "code",
   "execution_count": null,
   "metadata": {},
   "outputs": [],
   "source": [
    "# average event (lambda)\n",
    "lambda_ = 3\n",
    "\n",
    "# 0~10 customers to enter\n",
    "x = np.arange(0,11)\n"
   ]
  },
  {
   "cell_type": "code",
   "execution_count": 9,
   "metadata": {},
   "outputs": [
    {
     "name": "stderr",
     "output_type": "stream",
     "text": [
      "c:\\blp\\bqnt\\environments\\bqnt-3\\lib\\site-packages\\IPython\\core\\pylabtools.py:151: UserWarning: Glyph 51221 (\\N{HANGUL SYLLABLE JEONG}) missing from current font.\n",
      "  fig.canvas.print_figure(bytes_io, **kw)\n",
      "c:\\blp\\bqnt\\environments\\bqnt-3\\lib\\site-packages\\IPython\\core\\pylabtools.py:151: UserWarning: Glyph 44508 (\\N{HANGUL SYLLABLE GYU}) missing from current font.\n",
      "  fig.canvas.print_figure(bytes_io, **kw)\n",
      "c:\\blp\\bqnt\\environments\\bqnt-3\\lib\\site-packages\\IPython\\core\\pylabtools.py:151: UserWarning: Glyph 48516 (\\N{HANGUL SYLLABLE BUN}) missing from current font.\n",
      "  fig.canvas.print_figure(bytes_io, **kw)\n",
      "c:\\blp\\bqnt\\environments\\bqnt-3\\lib\\site-packages\\IPython\\core\\pylabtools.py:151: UserWarning: Glyph 54252 (\\N{HANGUL SYLLABLE PO}) missing from current font.\n",
      "  fig.canvas.print_figure(bytes_io, **kw)\n",
      "c:\\blp\\bqnt\\environments\\bqnt-3\\lib\\site-packages\\IPython\\core\\pylabtools.py:151: UserWarning: Glyph 51032 (\\N{HANGUL SYLLABLE YI}) missing from current font.\n",
      "  fig.canvas.print_figure(bytes_io, **kw)\n",
      "c:\\blp\\bqnt\\environments\\bqnt-3\\lib\\site-packages\\IPython\\core\\pylabtools.py:151: UserWarning: Glyph 45572 (\\N{HANGUL SYLLABLE NU}) missing from current font.\n",
      "  fig.canvas.print_figure(bytes_io, **kw)\n",
      "c:\\blp\\bqnt\\environments\\bqnt-3\\lib\\site-packages\\IPython\\core\\pylabtools.py:151: UserWarning: Glyph 51201 (\\N{HANGUL SYLLABLE JEOG}) missing from current font.\n",
      "  fig.canvas.print_figure(bytes_io, **kw)\n",
      "c:\\blp\\bqnt\\environments\\bqnt-3\\lib\\site-packages\\IPython\\core\\pylabtools.py:151: UserWarning: Glyph 54632 (\\N{HANGUL SYLLABLE HAM}) missing from current font.\n",
      "  fig.canvas.print_figure(bytes_io, **kw)\n",
      "c:\\blp\\bqnt\\environments\\bqnt-3\\lib\\site-packages\\IPython\\core\\pylabtools.py:151: UserWarning: Glyph 49688 (\\N{HANGUL SYLLABLE SU}) missing from current font.\n",
      "  fig.canvas.print_figure(bytes_io, **kw)\n",
      "c:\\blp\\bqnt\\environments\\bqnt-3\\lib\\site-packages\\IPython\\core\\pylabtools.py:151: UserWarning: Glyph 44050 (\\N{HANGUL SYLLABLE GABS}) missing from current font.\n",
      "  fig.canvas.print_figure(bytes_io, **kw)\n",
      "c:\\blp\\bqnt\\environments\\bqnt-3\\lib\\site-packages\\IPython\\core\\pylabtools.py:151: UserWarning: Glyph 54869 (\\N{HANGUL SYLLABLE HWAG}) missing from current font.\n",
      "  fig.canvas.print_figure(bytes_io, **kw)\n",
      "c:\\blp\\bqnt\\environments\\bqnt-3\\lib\\site-packages\\IPython\\core\\pylabtools.py:151: UserWarning: Glyph 47456 (\\N{HANGUL SYLLABLE RYUL}) missing from current font.\n",
      "  fig.canvas.print_figure(bytes_io, **kw)\n"
     ]
    },
    {
     "data": {
      "image/png": "[encoded data removed]",
      "text/plain": [
       "<Figure size 432x288 with 1 Axes>"
      ]
     },
     "metadata": {
      "needs_background": "light"
     },
     "output_type": "display_data"
    }
   ],
   "source": [
    "x = np.linspace(-4, 4, 1000)\n",
    "cdf = norm.cdf(x, loc=0, scale=1)\n",
    "\n",
    "plt.plot(x, cdf, label='CDF')\n",
    "plt.title(\"정규분포의 누적 분포 함수 (CDF)\")\n",
    "plt.xlabel(\"x 값\")\n",
    "plt.ylabel(\"누적 확률\")\n",
    "plt.grid(True)\n",
    "plt.legend()\n",
    "plt.show()"
   ]
  },
  {
   "cell_type": "code",
   "execution_count": 10,
   "metadata": {},
   "outputs": [
    {
     "name": "stdout",
     "output_type": "stream",
     "text": [
      "70점 이하일 확률: 84.13%\n"
     ]
    }
   ],
   "source": [
    "# 평균 60, 표준편차 10인 시험 점수에서\n",
    "# 70점 이하일 확률\n",
    "prob = norm.cdf(70, loc=60, scale=10)\n",
    "print(f\"70점 이하일 확률: {prob:.2%}\")"
   ]
  },
  {
   "cell_type": "code",
   "execution_count": 11,
   "metadata": {},
   "outputs": [
    {
     "name": "stdout",
     "output_type": "stream",
     "text": [
      "160~180cm 사이일 확률: 95.45%\n"
     ]
    }
   ],
   "source": [
    "p1 = norm.cdf(180, loc=170, scale=5)\n",
    "p2 = norm.cdf(160, loc=170, scale=5)\n",
    "print(f\"160~180cm 사이일 확률: {(p1 - p2):.2%}\")"
   ]
  },
  {
   "cell_type": "code",
   "execution_count": 12,
   "metadata": {},
   "outputs": [
    {
     "name": "stdout",
     "output_type": "stream",
     "text": [
      "95% 신뢰구간: 40.20 ~ 59.80\n"
     ]
    }
   ],
   "source": [
    "lower = norm.ppf(0.025, loc=50, scale=5)\n",
    "upper = norm.ppf(0.975, loc=50, scale=5)\n",
    "print(f\"95% 신뢰구간: {lower:.2f} ~ {upper:.2f}\")"
   ]
  },
  {
   "cell_type": "code",
   "execution_count": 13,
   "metadata": {},
   "outputs": [
    {
     "name": "stdout",
     "output_type": "stream",
     "text": [
      "Z=2.67, 상위 0.38%\n"
     ]
    }
   ],
   "source": [
    "z = (140 - 100) / 15  # Z-score 계산\n",
    "prob = 1 - norm.cdf(z)  # 얼마나 희귀한지\n",
    "print(f\"Z={z:.2f}, 상위 {prob:.2%}\")"
   ]
  },
  {
   "cell_type": "code",
   "execution_count": 14,
   "metadata": {},
   "outputs": [],
   "source": [
    "data = np.random.normal(loc=50, scale=10, size=1000)"
   ]
  },
  {
   "cell_type": "code",
   "execution_count": 16,
   "metadata": {},
   "outputs": [],
   "source": [
    "x = np.linspace(20, 80, 1000)"
   ]
  },
  {
   "cell_type": "code",
   "execution_count": 17,
   "metadata": {},
   "outputs": [],
   "source": [
    "pdf_theory = norm.pdf(x, loc=50, scale=10)"
   ]
  },
  {
   "cell_type": "code",
   "execution_count": 19,
   "metadata": {},
   "outputs": [
    {
     "name": "stderr",
     "output_type": "stream",
     "text": [
      "c:\\blp\\bqnt\\environments\\bqnt-3\\lib\\site-packages\\IPython\\core\\pylabtools.py:151: UserWarning: Glyph 49892 (\\N{HANGUL SYLLABLE SIL}) missing from current font.\n",
      "  fig.canvas.print_figure(bytes_io, **kw)\n",
      "c:\\blp\\bqnt\\environments\\bqnt-3\\lib\\site-packages\\IPython\\core\\pylabtools.py:151: UserWarning: Glyph 51228 (\\N{HANGUL SYLLABLE JE}) missing from current font.\n",
      "  fig.canvas.print_figure(bytes_io, **kw)\n",
      "c:\\blp\\bqnt\\environments\\bqnt-3\\lib\\site-packages\\IPython\\core\\pylabtools.py:151: UserWarning: Glyph 45936 (\\N{HANGUL SYLLABLE DE}) missing from current font.\n",
      "  fig.canvas.print_figure(bytes_io, **kw)\n",
      "c:\\blp\\bqnt\\environments\\bqnt-3\\lib\\site-packages\\IPython\\core\\pylabtools.py:151: UserWarning: Glyph 51060 (\\N{HANGUL SYLLABLE I}) missing from current font.\n",
      "  fig.canvas.print_figure(bytes_io, **kw)\n",
      "c:\\blp\\bqnt\\environments\\bqnt-3\\lib\\site-packages\\IPython\\core\\pylabtools.py:151: UserWarning: Glyph 53552 (\\N{HANGUL SYLLABLE TEO}) missing from current font.\n",
      "  fig.canvas.print_figure(bytes_io, **kw)\n",
      "c:\\blp\\bqnt\\environments\\bqnt-3\\lib\\site-packages\\IPython\\core\\pylabtools.py:151: UserWarning: Glyph 47200 (\\N{HANGUL SYLLABLE RON}) missing from current font.\n",
      "  fig.canvas.print_figure(bytes_io, **kw)\n",
      "c:\\blp\\bqnt\\environments\\bqnt-3\\lib\\site-packages\\IPython\\core\\pylabtools.py:151: UserWarning: Glyph 51221 (\\N{HANGUL SYLLABLE JEONG}) missing from current font.\n",
      "  fig.canvas.print_figure(bytes_io, **kw)\n",
      "c:\\blp\\bqnt\\environments\\bqnt-3\\lib\\site-packages\\IPython\\core\\pylabtools.py:151: UserWarning: Glyph 44508 (\\N{HANGUL SYLLABLE GYU}) missing from current font.\n",
      "  fig.canvas.print_figure(bytes_io, **kw)\n",
      "c:\\blp\\bqnt\\environments\\bqnt-3\\lib\\site-packages\\IPython\\core\\pylabtools.py:151: UserWarning: Glyph 48516 (\\N{HANGUL SYLLABLE BUN}) missing from current font.\n",
      "  fig.canvas.print_figure(bytes_io, **kw)\n",
      "c:\\blp\\bqnt\\environments\\bqnt-3\\lib\\site-packages\\IPython\\core\\pylabtools.py:151: UserWarning: Glyph 54252 (\\N{HANGUL SYLLABLE PO}) missing from current font.\n",
      "  fig.canvas.print_figure(bytes_io, **kw)\n",
      "c:\\blp\\bqnt\\environments\\bqnt-3\\lib\\site-packages\\IPython\\core\\pylabtools.py:151: UserWarning: Glyph 44050 (\\N{HANGUL SYLLABLE GABS}) missing from current font.\n",
      "  fig.canvas.print_figure(bytes_io, **kw)\n",
      "c:\\blp\\bqnt\\environments\\bqnt-3\\lib\\site-packages\\IPython\\core\\pylabtools.py:151: UserWarning: Glyph 48128 (\\N{HANGUL SYLLABLE MIL}) missing from current font.\n",
      "  fig.canvas.print_figure(bytes_io, **kw)\n",
      "c:\\blp\\bqnt\\environments\\bqnt-3\\lib\\site-packages\\IPython\\core\\pylabtools.py:151: UserWarning: Glyph 46020 (\\N{HANGUL SYLLABLE DO}) missing from current font.\n",
      "  fig.canvas.print_figure(bytes_io, **kw)\n"
     ]
    },
    {
     "data": {
      "image/png": "[encoded data removed]",
      "text/plain": [
       "<Figure size 432x288 with 1 Axes>"
      ]
     },
     "metadata": {
      "needs_background": "light"
     },
     "output_type": "display_data"
    }
   ],
   "source": [
    "plt.hist(data, bins=30, density=True, alpha=0.6, label=\"actual data\")\n",
    "plt.plot(x, pdf_theory, 'r-', label='theory norm distribution PDF', linewidth = 2)\n",
    "\n",
    "plt.title(\"실제 데이터 vs 이론 정규분포 PDF\")\n",
    "plt.xlabel(\"값\")\n",
    "plt.ylabel(\"밀도\")\n",
    "plt.legend()\n",
    "plt.grid(True)\n",
    "plt.show()"
   ]
  },
  {
   "cell_type": "code",
   "execution_count": 20,
   "metadata": {},
   "outputs": [],
   "source": [
    "np.random.seed(42)"
   ]
  },
  {
   "cell_type": "code",
   "execution_count": 23,
   "metadata": {},
   "outputs": [],
   "source": [
    "data = np.random.normal(loc=50, scale=10, size=100)"
   ]
  },
  {
   "cell_type": "code",
   "execution_count": 24,
   "metadata": {},
   "outputs": [],
   "source": [
    "data = np.append(data, [95, 100, 105])"
   ]
  },
  {
   "cell_type": "code",
   "execution_count": 26,
   "metadata": {},
   "outputs": [],
   "source": [
    "z_scores = zscore(data)"
   ]
  },
  {
   "cell_type": "code",
   "execution_count": 27,
   "metadata": {},
   "outputs": [
    {
     "data": {
      "text/plain": [
       "array([ 0.11044888,  0.26077256,  0.64752207,  0.62586243, -1.17469339,\n",
       "       -0.8489794 ,  0.22689427,  0.22596913,  0.22690347,  2.69852865,\n",
       "        0.26825626,  0.68641009,  0.55195821,  0.32786875, -0.38796372,\n",
       "        0.4075325 , -0.72679355, -0.32986937, -0.51392213, -0.09387067,\n",
       "        1.55955324, -1.53724942,  0.35368993, -1.34875028, -0.50397569,\n",
       "        0.65189067, -0.10689949, -0.95259292, -0.68419767,  0.34875626,\n",
       "       -0.69535208,  0.00579195, -0.12075329, -0.63702399,  1.43313558,\n",
       "        0.3149302 , -1.65416096, -0.01642685, -0.64456702,  0.47674465,\n",
       "       -0.7413785 , -0.23946495,  0.21945352,  0.48660977, -1.04334498,\n",
       "       -0.40220541, -0.50620721, -0.63830426,  1.15285587,  0.14539729,\n",
       "       -1.08821133,  0.52519592,  1.41700118,  0.61006208, -1.27962567,\n",
       "       -0.51308573,  0.7836742 , -0.67854435,  0.17415744,  0.41913264,\n",
       "       -0.84091174, -0.19857998, -2.55472696, -0.91308083, -0.34153224,\n",
       "       -1.07850994,  1.05433477, -1.21355002, -0.48036241, -0.05768405,\n",
       "        0.91279304, -1.21778638,  0.70684707, -0.1469224 , -0.88132804,\n",
       "        0.18769716, -0.0070923 , -0.59897344, -0.10281028, -0.43983304,\n",
       "       -0.07043821,  0.33582152,  1.01997867, -1.07112866,  1.42505596,\n",
       "       -1.60006235, -0.26690026,  0.28116109,  0.0535802 , -0.61562231,\n",
       "       -0.30861911, -0.51957778, -0.59093722,  0.47464806,  0.10987729,\n",
       "       -0.66761435,  0.51167247,  0.07306157,  0.44744133,  0.31175323,\n",
       "        3.17784463,  3.54810516,  3.9183657 ])"
      ]
     },
     "execution_count": 27,
     "metadata": {},
     "output_type": "execute_result"
    }
   ],
   "source": [
    "z_scores"
   ]
  },
  {
   "cell_type": "code",
   "execution_count": 30,
   "metadata": {},
   "outputs": [],
   "source": [
    "threshold = 2.5\n",
    "outliers = data[np.abs(z_scores) >= threshold]"
   ]
  },
  {
   "cell_type": "code",
   "execution_count": 31,
   "metadata": {},
   "outputs": [
    {
     "data": {
      "text/plain": [
       "array([ 88.52731491,  17.5873266 ,  95.        , 100.        ,\n",
       "       105.        ])"
      ]
     },
     "execution_count": 31,
     "metadata": {},
     "output_type": "execute_result"
    }
   ],
   "source": [
    "outliers"
   ]
  },
  {
   "cell_type": "code",
   "execution_count": 32,
   "metadata": {},
   "outputs": [
    {
     "name": "stdout",
     "output_type": "stream",
     "text": [
      "이상치 목록: [101.   1. 120.]\n"
     ]
    }
   ],
   "source": [
    "\n",
    "# 1. 랜덤 시드 고정 (재현 가능한 결과)\n",
    "# TODO: 시드를 고정해보세요 (예: 42)\n",
    "np.random.seed(42)\n",
    "\n",
    "# 2. 평균 50, 표준편차 10인 데이터 100개 생성\n",
    "# TODO: 정규분포를 사용해 데이터 생성\n",
    "data = np.random.normal(loc=50, scale=10, size=100)\n",
    "\n",
    "# 3. 이상치 몇 개 추가 (예: 95, 100, 105)\n",
    "# TODO: 데이터 뒤에 이상치 추가\n",
    "data = np.append(data, [101, 1, 120])\n",
    "\n",
    "# 4. Z-score 계산\n",
    "# TODO: scipy의 zscore 함수를 사용\n",
    "z_scores = zscore(data)\n",
    "\n",
    "# 5. Z-score가 3 이상인 데이터만 추출\n",
    "# TODO: np.abs와 조건 필터링 사용\n",
    "outliers = data[np.abs(z_scores) >= 3]\n",
    "\n",
    "# 6. 결과 출력\n",
    "# TODO: 이상치 목록을 출력\n",
    "print(\"이상치 목록:\", outliers)"
   ]
  },
  {
   "cell_type": "code",
   "execution_count": null,
   "metadata": {},
   "outputs": [],
   "source": []
  }
 ],
 "metadata": {
  "kernelspec": {
   "display_name": "Python 3",
   "language": "python",
   "name": "python3"
  },
  "language_info": {
   "codemirror_mode": {
    "name": "ipython",
    "version": 3
   },
   "file_extension": ".py",
   "mimetype": "text/x-python",
   "name": "python",
   "nbconvert_exporter": "python",
   "pygments_lexer": "ipython3",
   "version": "3.9.12"
  }
 },
 "nbformat": 4,
 "nbformat_minor": 2
}
