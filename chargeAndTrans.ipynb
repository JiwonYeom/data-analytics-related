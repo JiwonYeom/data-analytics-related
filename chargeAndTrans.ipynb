{
 "cells": [
  {
   "cell_type": "code",
   "execution_count": 1,
   "metadata": {},
   "outputs": [],
   "source": [
    "import pandas as pd\n",
    "from datetime import datetime, timedelta\n",
    "from collections import OrderedDict\n",
    "import numpy as np"
   ]
  },
  {
   "cell_type": "code",
   "execution_count": 2,
   "metadata": {},
   "outputs": [],
   "source": [
    "df_charge = pd.read_excel('/Users/j-yeom/workspace/asakai/charge/charge-total.xlsx', sheet_name = ['03-03','2018-04','2018-05','2018-06'])\n",
    "#print(df)\n",
    "df1_charge = pd.DataFrame()\n",
    "df1_charge['date'] = (df_charge['03-03']['date']).append(df_charge['2018-04']['date'])\n",
    "df1_charge['date'] = pd.to_datetime(df1_charge['date'], format='%Y/%m/%d %H:%M')\n",
    "df1_charge['date_month'] = df1_charge['date'].dt.strftime('%Y-%m')\n",
    "df1_charge['userId'] = (df_charge['03-03']['userId']).append(df_charge['2018-04']['userId'])\n",
    "df1_charge['userId'] = df1_charge.userId.apply(str)"
   ]
  },
  {
   "cell_type": "code",
   "execution_count": 3,
   "metadata": {},
   "outputs": [],
   "source": [
    "# import data\n",
    "df_trans = pd.read_csv('/Users/j-yeom/workspace/asakai/pollet-renamed2.csv')\n",
    "# add monthly column\n",
    "df_trans['date'] = pd.to_datetime(df_trans['date'], format='%Y/%m/%d %H:%M')\n",
    "df_trans['date_month'] = df_trans['date'].dt.strftime('%Y-%m')\n",
    "df_trans['userId'] = df_trans.userId.apply(str)\n",
    "df_trans['march'] = df_trans['userId'].where(df_trans['date_month'] == '2017-03')\n",
    "monthList = df_trans.date_month.unique()\n",
    "userList = []"
   ]
  },
  {
   "cell_type": "code",
   "execution_count": 4,
   "metadata": {},
   "outputs": [],
   "source": [
    "monthList = df1_charge.date_month.unique()\n",
    "#print(monthList)\n",
    "userList = []\n",
    "for month in monthList:\n",
    "    if(len(userList) == 0):\n",
    "        userList.append(list(df1_charge.userId.where(df1_charge['date_month'] == month).unique()))\n",
    "    else:\n",
    "        toAppend = set(df1_charge.userId.where(df1_charge['date_month'] == month).unique())\n",
    "        # remove all the previous months' users\n",
    "        toRemove = set().union(*userList)\n",
    "        userList.append(list(toAppend - toRemove))\n",
    "#print(userList) # userList will now contain lists of first users from each month.\n",
    "userObj = {}\n",
    "count = 0\n",
    "for month in monthList:\n",
    "    userObj[month] = userList[count]\n",
    "    count+=1\n",
    "# print(userObj)"
   ]
  },
  {
   "cell_type": "code",
   "execution_count": 5,
   "metadata": {},
   "outputs": [
    {
     "name": "stdout",
     "output_type": "stream",
     "text": [
      "{'2017-03': [769, 251, 236, 253, 222, 250, 255, 185, 213, 271, 115, 109, 119, 126], '2017-04': [0, 507, 159, 167, 124, 142, 145, 116, 114, 165, 73, 71, 77, 81], '2017-05': [0, 0, 771, 246, 175, 196, 197, 160, 188, 259, 121, 118, 136, 132], '2017-06': [0, 0, 0, 415, 119, 134, 105, 75, 74, 132, 49, 48, 59, 65], '2017-07': [0, 0, 0, 0, 390, 163, 146, 110, 111, 126, 83, 93, 93, 81], '2017-08': [0, 0, 0, 0, 0, 790, 203, 125, 125, 153, 75, 83, 92, 93], '2017-09': [0, 0, 0, 0, 0, 0, 509, 111, 122, 128, 52, 57, 57, 61], '2017-10': [0, 0, 0, 0, 0, 0, 0, 289, 125, 111, 50, 54, 58, 44], '2017-11': [0, 0, 0, 0, 0, 0, 0, 0, 242, 122, 43, 53, 50, 47], '2017-12': [0, 0, 0, 0, 0, 0, 0, 0, 0, 691, 194, 165, 170, 133], '2018-01': [0, 0, 0, 0, 0, 0, 0, 0, 0, 0, 719, 206, 210, 158], '2018-02': [0, 0, 0, 0, 0, 0, 0, 0, 0, 0, 0, 297, 104, 81], '2018-03': [0, 0, 0, 0, 0, 0, 0, 0, 0, 0, 0, 0, 397, 142], '2018-04': [0, 0, 0, 0, 0, 0, 0, 0, 0, 0, 0, 0, 0, 411]}\n"
     ]
    }
   ],
   "source": [
    "userList = {}\n",
    "for month in monthList:\n",
    "    charge_user = df1_charge.userId.where(df1_charge['date_month'] == month).unique()  # << unique user of each month\n",
    "    trans_user = df_trans.userId.where(df_trans['date_month'] == month).unique()\n",
    "    userList[month] = list(set(charge_user).union(set(trans_user)))\n",
    "#print(userList) # 각 월의 유저아이디를 담고 있는 객체\n",
    "\n",
    "def match_all(rangeArr, subRangeArr):\n",
    "    arr = {}\n",
    "    for month in rangeArr:\n",
    "        arr[month] = []\n",
    "        for sub_month in subRangeArr:  \n",
    "            # figure out if each month unique user existed in the first charger user group\n",
    "            arr[month].append(np.isin(userList[sub_month],userObj[month]).sum())\n",
    "    return arr\n",
    "\n",
    "dates = [\"2017-03-01\", \"2018-04-30\"]\n",
    "start, end = [datetime.strptime(_, \"%Y-%m-%d\") for _ in dates]\n",
    "result = list(OrderedDict(((start + timedelta(_)).strftime(r\"%Y-%m\"), None) for _ in range((end - start).days)).keys())\n",
    "#print(for_march(result))\n",
    "real_result = match_all(result, result) # use same time range for both compare-ref and compare-ee\n",
    "print(real_result)"
   ]
  },
  {
   "cell_type": "code",
   "execution_count": 9,
   "metadata": {},
   "outputs": [
    {
     "name": "stdout",
     "output_type": "stream",
     "text": [
      "            userId  2017-03  2017-04  2017-05  2017-06  2017-07  2017-08  \\\n",
      "date_month                                                                 \n",
      "2017-03        768      769      NaN      NaN      NaN      NaN      NaN   \n",
      "2017-04        757      251    507.0      NaN      NaN      NaN      NaN   \n",
      "2017-05       1165      236    159.0    771.0      NaN      NaN      NaN   \n",
      "2017-06       1080      253    167.0    246.0    415.0      NaN      NaN   \n",
      "2017-07       1029      222    124.0    175.0    119.0    390.0      NaN   \n",
      "2017-08       1674      250    142.0    196.0    134.0    163.0    790.0   \n",
      "2017-09       1559      255    145.0    197.0    105.0    146.0    203.0   \n",
      "2017-10       1170      185    116.0    160.0     75.0    110.0    125.0   \n",
      "2017-11       1313      213    114.0    188.0     74.0    111.0    125.0   \n",
      "2017-12       2157      271    165.0    259.0    132.0    126.0    153.0   \n",
      "2018-01       1573      115     73.0    121.0     49.0     83.0     75.0   \n",
      "2018-02       1353      109     71.0    118.0     48.0     93.0     83.0   \n",
      "2018-03       1621      119     77.0    136.0     59.0     93.0     92.0   \n",
      "2018-04       1654      126     81.0    132.0     65.0     81.0     93.0   \n",
      "\n",
      "            2017-09  2017-10  2017-11  2017-12  2018-01  2018-02  2018-03  \\\n",
      "date_month                                                                  \n",
      "2017-03         NaN      NaN      NaN      NaN      NaN      NaN      NaN   \n",
      "2017-04         NaN      NaN      NaN      NaN      NaN      NaN      NaN   \n",
      "2017-05         NaN      NaN      NaN      NaN      NaN      NaN      NaN   \n",
      "2017-06         NaN      NaN      NaN      NaN      NaN      NaN      NaN   \n",
      "2017-07         NaN      NaN      NaN      NaN      NaN      NaN      NaN   \n",
      "2017-08         NaN      NaN      NaN      NaN      NaN      NaN      NaN   \n",
      "2017-09       509.0      NaN      NaN      NaN      NaN      NaN      NaN   \n",
      "2017-10       111.0    289.0      NaN      NaN      NaN      NaN      NaN   \n",
      "2017-11       122.0    125.0    242.0      NaN      NaN      NaN      NaN   \n",
      "2017-12       128.0    111.0    122.0    691.0      NaN      NaN      NaN   \n",
      "2018-01        52.0     50.0     43.0    194.0    719.0      NaN      NaN   \n",
      "2018-02        57.0     54.0     53.0    165.0    206.0    297.0      NaN   \n",
      "2018-03        57.0     58.0     50.0    170.0    210.0    104.0    397.0   \n",
      "2018-04        61.0     44.0     47.0    133.0    158.0     81.0    142.0   \n",
      "\n",
      "            2018-04  \n",
      "date_month           \n",
      "2017-03         NaN  \n",
      "2017-04         NaN  \n",
      "2017-05         NaN  \n",
      "2017-06         NaN  \n",
      "2017-07         NaN  \n",
      "2017-08         NaN  \n",
      "2017-09         NaN  \n",
      "2017-10         NaN  \n",
      "2017-11         NaN  \n",
      "2017-12         NaN  \n",
      "2018-01         NaN  \n",
      "2018-02         NaN  \n",
      "2018-03         NaN  \n",
      "2018-04       411.0  \n"
     ]
    }
   ],
   "source": [
    "df2 = df1_charge.groupby('date_month')[['userId']].nunique()\n",
    "for month, month_list in real_result.items():\n",
    "    df2[month] = month_list\n",
    "#df2 = df2.transpose()\n",
    "df2 = df2.replace(0, np.nan)\n",
    "#    return\n",
    "print(df2)\n",
    "writer = pd.ExcelWriter('pollet_charge_trans1.xlsx', engine='xlsxwriter')\n",
    "df2.to_excel(writer, sheet_name='Sheet1')\n",
    "writer.save()\n",
    "#df2.to_json('pollet_charge_trans.json', orient='split')"
   ]
  },
  {
   "cell_type": "code",
   "execution_count": null,
   "metadata": {},
   "outputs": [],
   "source": []
  }
 ],
 "metadata": {
  "kernelspec": {
   "display_name": "Python 3",
   "language": "python",
   "name": "python3"
  },
  "language_info": {
   "codemirror_mode": {
    "name": "ipython",
    "version": 3
   },
   "file_extension": ".py",
   "mimetype": "text/x-python",
   "name": "python",
   "nbconvert_exporter": "python",
   "pygments_lexer": "ipython3",
   "version": "3.6.5"
  }
 },
 "nbformat": 4,
 "nbformat_minor": 2
}
